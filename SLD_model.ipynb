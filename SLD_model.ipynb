{
  "cells": [
    {
      "cell_type": "code",
      "execution_count": null,
      "metadata": {
        "id": "D6aSVpgvewEq"
      },
      "outputs": [],
      "source": [
        "from google.colab import drive"
      ]
    },
    {
      "cell_type": "code",
      "execution_count": null,
      "metadata": {
        "id": "QTbQKu7Xe9C_"
      },
      "outputs": [],
      "source": [
        "drive.mount('/content/drive')"
      ]
    },
    {
      "cell_type": "code",
      "execution_count": null,
      "metadata": {
        "id": "KWFK1dnZpPZU"
      },
      "outputs": [],
      "source": [
        "import pandas as pd\n",
        "import numpy as np\n",
        "import seaborn as sns\n",
        "import matplotlib.pyplot as plt\n",
        "import os, glob\n",
        "from sklearn.model_selection import train_test_split\n",
        "from tensorflow.keras.preprocessing.image import ImageDataGenerator\n",
        "from tensorflow.keras.models import Model\n",
        "from tensorflow.keras.layers import Conv2D, MaxPooling2D, GlobalAveragePooling2D, Flatten, Dense, Dropout\n",
        "from tensorflow.keras.callbacks import Callback, EarlyStopping\n",
        "from tensorflow.keras.applications import ResNet50, InceptionResNetV2\n",
        "from tensorflow.keras.models import Sequential\n",
        "from tensorflow.keras.applications.resnet50 import preprocess_input\n",
        "from tensorflow.keras.preprocessing import image_dataset_from_directory\n",
        "from sklearn.metrics import classification_report\n",
        "from PIL import Image\n"
      ]
    },
    {
      "cell_type": "code",
      "execution_count": null,
      "metadata": {
        "id": "xZDh-m6-qgPB"
      },
      "outputs": [],
      "source": [
        "metadata = pd.read_csv('/content/drive/MyDrive/GDSC 23-24/Data/metadata.csv')"
      ]
    },
    {
      "cell_type": "code",
      "source": [
        "from google.colab import drive\n",
        "drive.mount('/content/drive')"
      ],
      "metadata": {
        "id": "TsB8bPG5EAjY"
      },
      "execution_count": null,
      "outputs": []
    },
    {
      "cell_type": "code",
      "execution_count": null,
      "metadata": {
        "id": "RNnqy4_znGOO"
      },
      "outputs": [],
      "source": [
        "train, test = train_test_split(metadata, test_size = 0.20, random_state = 42) # double check data variable"
      ]
    },
    {
      "cell_type": "code",
      "execution_count": null,
      "metadata": {
        "id": "T4uSPNvLPYT1"
      },
      "outputs": [],
      "source": [
        "train_datagen = ImageDataGenerator(preprocessing_function=preprocess_input)\n",
        "test_datagen = ImageDataGenerator(preprocessing_function=preprocess_input)"
      ]
    },
    {
      "cell_type": "code",
      "execution_count": null,
      "metadata": {
        "colab": {
          "base_uri": "https://localhost:8080/"
        },
        "id": "D8nFmeZLPy98",
        "outputId": "2b88d9f3-8cb9-433a-8ced-893643e15cf8"
      },
      "outputs": [
        {
          "name": "stdout",
          "output_type": "stream",
          "text": [
            "Found 1826 validated image filenames belonging to 6 classes.\n",
            "Found 457 validated image filenames belonging to 6 classes.\n",
            "Found 457 validated image filenames belonging to 6 classes.\n"
          ]
        }
      ],
      "source": [
        "train_gen = train_datagen.flow_from_dataframe(\n",
        "    dataframe = train,\n",
        "    x_col='filepath',\n",
        "    y_col='diagnostic',\n",
        "    target_size=(100, 100),\n",
        "    class_mode = 'categorical',\n",
        "    batch_size=32,\n",
        "    shuffle=True,\n",
        "    seed=42\n",
        ")\n",
        "\n",
        "valid_gen = train_datagen.flow_from_dataframe(\n",
        "    dataframe = test,\n",
        "    x_col='filepath',\n",
        "    y_col='diagnostic',\n",
        "    target_size=(100, 100),\n",
        "    class_mode = 'categorical',\n",
        "    batch_size=32,\n",
        "    shuffle=False,\n",
        "    seed=42\n",
        ")\n",
        "\n",
        "test_gen = train_datagen.flow_from_dataframe(\n",
        "    dataframe = test,\n",
        "    x_col='filepath',\n",
        "    y_col='diagnostic',\n",
        "    target_size=(100, 100),\n",
        "    class_mode = 'categorical',\n",
        "    batch_size=32,\n",
        "    shuffle=False\n",
        ")"
      ]
    },
    {
      "cell_type": "code",
      "execution_count": null,
      "metadata": {
        "id": "XW71cfmdI3tY"
      },
      "outputs": [],
      "source": [
        "pretrained_model = ResNet50(\n",
        "    input_shape=(100,100,3),\n",
        "    include_top=False,\n",
        "    weights='imagenet',\n",
        "    pooling='avg'\n",
        ")\n",
        "\n",
        "pretrained_model.trainable = False\n",
        "\n",
        "inputs = pretrained_model.input\n",
        "x = Dense(128, activation='relu')(pretrained_model.output)\n",
        "x = Dense(128, activation='relu')(x)\n",
        "\n",
        "outputs = Dense(6, activation='softmax')(x)\n",
        "\n",
        "model = Model(inputs=inputs, outputs=outputs)\n",
        "\n",
        "model.compile(\n",
        "    optimizer='adam',\n",
        "    loss='categorical_crossentropy',\n",
        "    metrics=['accuracy']\n",
        ")\n",
        "\n",
        "my_callbacks = [EarlyStopping(monitor = 'val_accuracy',\n",
        "                              min_delta=0,\n",
        "                              patience=2,\n",
        "                              mode='auto')]\n",
        "\n",
        "history = model.fit(\n",
        "    train_gen,\n",
        "    validation_data = valid_gen,\n",
        "    epochs=100,\n",
        ")"
      ]
    },
    {
      "cell_type": "code",
      "execution_count": null,
      "metadata": {
        "id": "SrYMENLIy1Iq"
      },
      "outputs": [],
      "source": [
        "# metadata.to_csv('/content/drive/MyDrive/GDSC 23-24/Data/metadata.csv')"
      ]
    },
    {
      "cell_type": "code",
      "execution_count": null,
      "metadata": {
        "colab": {
          "base_uri": "https://localhost:8080/"
        },
        "id": "iBGLj4DK73Df",
        "outputId": "350b1e4c-1dd5-4c03-8d27-90bbcb6cc077"
      },
      "outputs": [
        {
          "name": "stderr",
          "output_type": "stream",
          "text": [
            "/usr/local/lib/python3.10/dist-packages/keras/src/engine/training.py:3103: UserWarning: You are saving your model as an HDF5 file via `model.save()`. This file format is considered legacy. We recommend using instead the native Keras format, e.g. `model.save('my_model.keras')`.\n",
            "  saving_api.save_model(\n"
          ]
        }
      ],
      "source": [
        "model.save(\"model_resnet50.h5\")"
      ]
    },
    {
      "cell_type": "code",
      "execution_count": null,
      "metadata": {
        "colab": {
          "base_uri": "https://localhost:8080/"
        },
        "id": "knGrR1D_75_e",
        "outputId": "a3314bca-8fa2-48e5-864b-1cf2cc030a99"
      },
      "outputs": [
        {
          "name": "stdout",
          "output_type": "stream",
          "text": [
            "Epoch 1/100\n",
            "58/58 [==============================] - 213s 3s/step - loss: 2.0661 - accuracy: 0.4606 - val_loss: 1.1618 - val_accuracy: 0.6083\n",
            "Epoch 2/100\n",
            "58/58 [==============================] - 193s 3s/step - loss: 1.0968 - accuracy: 0.6035 - val_loss: 1.0936 - val_accuracy: 0.6018\n",
            "Epoch 3/100\n",
            "58/58 [==============================] - 193s 3s/step - loss: 0.9026 - accuracy: 0.6802 - val_loss: 1.0713 - val_accuracy: 0.6346\n",
            "Epoch 4/100\n",
            "58/58 [==============================] - 198s 3s/step - loss: 0.7037 - accuracy: 0.7415 - val_loss: 1.1158 - val_accuracy: 0.6193\n",
            "Epoch 5/100\n",
            "58/58 [==============================] - 197s 3s/step - loss: 0.6092 - accuracy: 0.7694 - val_loss: 1.2004 - val_accuracy: 0.6324\n",
            "Epoch 6/100\n",
            "58/58 [==============================] - 197s 3s/step - loss: 0.4588 - accuracy: 0.8335 - val_loss: 1.2770 - val_accuracy: 0.6324\n",
            "Epoch 7/100\n",
            "58/58 [==============================] - 204s 4s/step - loss: 0.3672 - accuracy: 0.8614 - val_loss: 1.3766 - val_accuracy: 0.5952\n",
            "Epoch 8/100\n",
            "58/58 [==============================] - 196s 3s/step - loss: 0.2814 - accuracy: 0.8970 - val_loss: 1.6434 - val_accuracy: 0.6105\n",
            "Epoch 9/100\n",
            "58/58 [==============================] - 236s 4s/step - loss: 0.2211 - accuracy: 0.9179 - val_loss: 1.5168 - val_accuracy: 0.5996\n",
            "Epoch 10/100\n",
            "58/58 [==============================] - 194s 3s/step - loss: 0.2247 - accuracy: 0.9255 - val_loss: 1.7438 - val_accuracy: 0.6280\n",
            "Epoch 11/100\n",
            "58/58 [==============================] - 194s 3s/step - loss: 0.1914 - accuracy: 0.9387 - val_loss: 1.7175 - val_accuracy: 0.5930\n",
            "Epoch 12/100\n",
            "58/58 [==============================] - 204s 3s/step - loss: 0.1311 - accuracy: 0.9573 - val_loss: 1.9611 - val_accuracy: 0.6302\n",
            "Epoch 13/100\n",
            "58/58 [==============================] - 194s 3s/step - loss: 0.4296 - accuracy: 0.8609 - val_loss: 2.2783 - val_accuracy: 0.5711\n",
            "Epoch 14/100\n",
            "58/58 [==============================] - 195s 3s/step - loss: 0.2948 - accuracy: 0.9036 - val_loss: 1.8716 - val_accuracy: 0.6214\n",
            "Epoch 15/100\n",
            "58/58 [==============================] - 205s 4s/step - loss: 0.1559 - accuracy: 0.9502 - val_loss: 2.1091 - val_accuracy: 0.6433\n",
            "Epoch 16/100\n",
            "58/58 [==============================] - 197s 3s/step - loss: 0.1234 - accuracy: 0.9595 - val_loss: 1.9071 - val_accuracy: 0.5930\n",
            "Epoch 17/100\n",
            "58/58 [==============================] - 196s 3s/step - loss: 0.0999 - accuracy: 0.9633 - val_loss: 2.1956 - val_accuracy: 0.6302\n",
            "Epoch 18/100\n",
            "58/58 [==============================] - 200s 3s/step - loss: 0.0767 - accuracy: 0.9726 - val_loss: 2.5297 - val_accuracy: 0.6214\n",
            "Epoch 19/100\n",
            "58/58 [==============================] - 204s 4s/step - loss: 0.0694 - accuracy: 0.9743 - val_loss: 2.4435 - val_accuracy: 0.6018\n",
            "Epoch 20/100\n",
            "58/58 [==============================] - 202s 3s/step - loss: 0.0458 - accuracy: 0.9814 - val_loss: 2.3361 - val_accuracy: 0.6280\n",
            "Epoch 21/100\n",
            "58/58 [==============================] - 212s 4s/step - loss: 0.0428 - accuracy: 0.9852 - val_loss: 2.1423 - val_accuracy: 0.6302\n",
            "Epoch 22/100\n",
            "58/58 [==============================] - 197s 3s/step - loss: 0.0335 - accuracy: 0.9847 - val_loss: 2.4963 - val_accuracy: 0.6280\n",
            "Epoch 23/100\n",
            "58/58 [==============================] - 193s 3s/step - loss: 0.0328 - accuracy: 0.9885 - val_loss: 2.4237 - val_accuracy: 0.6521\n",
            "Epoch 24/100\n",
            "58/58 [==============================] - 207s 4s/step - loss: 0.0300 - accuracy: 0.9885 - val_loss: 2.4200 - val_accuracy: 0.6455\n",
            "Epoch 25/100\n",
            "58/58 [==============================] - 196s 3s/step - loss: 0.0222 - accuracy: 0.9901 - val_loss: 2.5886 - val_accuracy: 0.6346\n",
            "Epoch 26/100\n",
            "58/58 [==============================] - 192s 3s/step - loss: 0.0243 - accuracy: 0.9907 - val_loss: 2.3613 - val_accuracy: 0.6368\n",
            "Epoch 27/100\n",
            "58/58 [==============================] - 205s 4s/step - loss: 0.0243 - accuracy: 0.9896 - val_loss: 2.4633 - val_accuracy: 0.6346\n",
            "Epoch 28/100\n",
            "58/58 [==============================] - 194s 3s/step - loss: 0.0248 - accuracy: 0.9907 - val_loss: 2.5928 - val_accuracy: 0.6411\n",
            "Epoch 29/100\n",
            "58/58 [==============================] - 198s 3s/step - loss: 0.0235 - accuracy: 0.9912 - val_loss: 2.6352 - val_accuracy: 0.6455\n",
            "Epoch 30/100\n",
            "58/58 [==============================] - 205s 4s/step - loss: 0.0251 - accuracy: 0.9896 - val_loss: 2.5771 - val_accuracy: 0.6521\n",
            "Epoch 31/100\n",
            "58/58 [==============================] - 195s 3s/step - loss: 0.0286 - accuracy: 0.9890 - val_loss: 2.5854 - val_accuracy: 0.6411\n",
            "Epoch 32/100\n",
            "58/58 [==============================] - 197s 3s/step - loss: 0.0446 - accuracy: 0.9841 - val_loss: 3.0138 - val_accuracy: 0.6214\n",
            "Epoch 33/100\n",
            "58/58 [==============================] - 202s 3s/step - loss: 0.1161 - accuracy: 0.9578 - val_loss: 2.7669 - val_accuracy: 0.6018\n",
            "Epoch 34/100\n",
            "58/58 [==============================] - 193s 3s/step - loss: 0.2127 - accuracy: 0.9430 - val_loss: 2.7310 - val_accuracy: 0.6083\n",
            "Epoch 35/100\n",
            "58/58 [==============================] - 201s 3s/step - loss: 0.2295 - accuracy: 0.9206 - val_loss: 2.5549 - val_accuracy: 0.5842\n",
            "Epoch 36/100\n",
            "58/58 [==============================] - 205s 4s/step - loss: 0.1883 - accuracy: 0.9430 - val_loss: 2.8504 - val_accuracy: 0.5930\n",
            "Epoch 37/100\n",
            "58/58 [==============================] - 199s 3s/step - loss: 0.1917 - accuracy: 0.9491 - val_loss: 2.6245 - val_accuracy: 0.6127\n",
            "Epoch 38/100\n",
            "58/58 [==============================] - 197s 3s/step - loss: 0.1165 - accuracy: 0.9644 - val_loss: 2.4796 - val_accuracy: 0.6193\n",
            "Epoch 39/100\n",
            "58/58 [==============================] - 204s 4s/step - loss: 0.0715 - accuracy: 0.9765 - val_loss: 2.8240 - val_accuracy: 0.6061\n",
            "Epoch 40/100\n",
            "58/58 [==============================] - 195s 3s/step - loss: 0.0737 - accuracy: 0.9765 - val_loss: 2.8929 - val_accuracy: 0.5974\n",
            "Epoch 41/100\n",
            "58/58 [==============================] - 193s 3s/step - loss: 0.0844 - accuracy: 0.9721 - val_loss: 2.4548 - val_accuracy: 0.6324\n",
            "Epoch 42/100\n",
            "58/58 [==============================] - 205s 4s/step - loss: 0.0866 - accuracy: 0.9715 - val_loss: 2.8172 - val_accuracy: 0.6083\n",
            "Epoch 43/100\n",
            "58/58 [==============================] - 198s 3s/step - loss: 0.0847 - accuracy: 0.9721 - val_loss: 2.7058 - val_accuracy: 0.6302\n",
            "Epoch 44/100\n",
            "58/58 [==============================] - 198s 3s/step - loss: 0.1193 - accuracy: 0.9644 - val_loss: 3.3058 - val_accuracy: 0.6411\n",
            "Epoch 45/100\n",
            "58/58 [==============================] - 206s 4s/step - loss: 0.1251 - accuracy: 0.9650 - val_loss: 3.4128 - val_accuracy: 0.6236\n",
            "Epoch 46/100\n",
            "58/58 [==============================] - 201s 3s/step - loss: 0.0817 - accuracy: 0.9732 - val_loss: 3.1735 - val_accuracy: 0.6521\n",
            "Epoch 47/100\n",
            "58/58 [==============================] - 198s 3s/step - loss: 0.0607 - accuracy: 0.9803 - val_loss: 2.8589 - val_accuracy: 0.6258\n",
            "Epoch 48/100\n",
            "58/58 [==============================] - 205s 4s/step - loss: 0.0632 - accuracy: 0.9841 - val_loss: 3.2105 - val_accuracy: 0.6433\n",
            "Epoch 49/100\n",
            "58/58 [==============================] - 194s 3s/step - loss: 0.0310 - accuracy: 0.9885 - val_loss: 2.9301 - val_accuracy: 0.6258\n",
            "Epoch 50/100\n",
            "58/58 [==============================] - 201s 3s/step - loss: 0.0251 - accuracy: 0.9901 - val_loss: 2.9096 - val_accuracy: 0.6258\n",
            "Epoch 51/100\n",
            "58/58 [==============================] - 199s 3s/step - loss: 0.0261 - accuracy: 0.9896 - val_loss: 2.8147 - val_accuracy: 0.6171\n",
            "Epoch 52/100\n",
            "58/58 [==============================] - 194s 3s/step - loss: 0.0291 - accuracy: 0.9885 - val_loss: 2.9317 - val_accuracy: 0.6171\n",
            "Epoch 53/100\n",
            "58/58 [==============================] - 200s 3s/step - loss: 0.0286 - accuracy: 0.9901 - val_loss: 3.1691 - val_accuracy: 0.6411\n",
            "Epoch 54/100\n",
            "58/58 [==============================] - 198s 3s/step - loss: 0.0284 - accuracy: 0.9885 - val_loss: 4.0346 - val_accuracy: 0.6346\n",
            "Epoch 55/100\n",
            "58/58 [==============================] - 198s 3s/step - loss: 0.0456 - accuracy: 0.9841 - val_loss: 3.1056 - val_accuracy: 0.6411\n",
            "Epoch 56/100\n",
            "58/58 [==============================] - 198s 3s/step - loss: 0.0339 - accuracy: 0.9869 - val_loss: 2.9810 - val_accuracy: 0.6083\n",
            "Epoch 57/100\n",
            "58/58 [==============================] - 199s 3s/step - loss: 0.0206 - accuracy: 0.9912 - val_loss: 3.1681 - val_accuracy: 0.6302\n",
            "Epoch 58/100\n",
            "58/58 [==============================] - 192s 3s/step - loss: 0.0245 - accuracy: 0.9901 - val_loss: 3.4772 - val_accuracy: 0.6368\n",
            "Epoch 59/100\n",
            "58/58 [==============================] - 196s 3s/step - loss: 0.0328 - accuracy: 0.9874 - val_loss: 3.0489 - val_accuracy: 0.6083\n",
            "Epoch 60/100\n",
            "58/58 [==============================] - 204s 4s/step - loss: 0.0216 - accuracy: 0.9912 - val_loss: 3.4989 - val_accuracy: 0.6324\n",
            "Epoch 61/100\n",
            "58/58 [==============================] - 196s 3s/step - loss: 0.0252 - accuracy: 0.9896 - val_loss: 3.3746 - val_accuracy: 0.6280\n",
            "Epoch 62/100\n",
            "58/58 [==============================] - 195s 3s/step - loss: 0.0217 - accuracy: 0.9885 - val_loss: 3.1442 - val_accuracy: 0.6302\n",
            "Epoch 63/100\n",
            "58/58 [==============================] - 201s 3s/step - loss: 0.0188 - accuracy: 0.9918 - val_loss: 3.4691 - val_accuracy: 0.6389\n",
            "Epoch 64/100\n",
            "58/58 [==============================] - 196s 3s/step - loss: 0.0202 - accuracy: 0.9901 - val_loss: 3.2628 - val_accuracy: 0.6455\n",
            "Epoch 65/100\n",
            "58/58 [==============================] - 197s 3s/step - loss: 0.0179 - accuracy: 0.9918 - val_loss: 3.4286 - val_accuracy: 0.6368\n",
            "Epoch 66/100\n",
            "58/58 [==============================] - 205s 4s/step - loss: 0.0213 - accuracy: 0.9918 - val_loss: 3.1906 - val_accuracy: 0.6302\n",
            "Epoch 67/100\n",
            "58/58 [==============================] - 197s 3s/step - loss: 0.0419 - accuracy: 0.9841 - val_loss: 3.5559 - val_accuracy: 0.6346\n",
            "Epoch 68/100\n",
            "58/58 [==============================] - 191s 3s/step - loss: 0.1464 - accuracy: 0.9655 - val_loss: 3.7422 - val_accuracy: 0.6039\n",
            "Epoch 69/100\n",
            "58/58 [==============================] - 201s 3s/step - loss: 0.1429 - accuracy: 0.9551 - val_loss: 3.8281 - val_accuracy: 0.6105\n",
            "Epoch 70/100\n",
            "58/58 [==============================] - 197s 3s/step - loss: 0.2308 - accuracy: 0.9441 - val_loss: 3.2165 - val_accuracy: 0.5930\n",
            "Epoch 71/100\n",
            "58/58 [==============================] - 196s 3s/step - loss: 0.1381 - accuracy: 0.9606 - val_loss: 3.0138 - val_accuracy: 0.5580\n",
            "Epoch 72/100\n",
            "58/58 [==============================] - 201s 3s/step - loss: 0.1330 - accuracy: 0.9628 - val_loss: 2.8666 - val_accuracy: 0.6236\n",
            "Epoch 73/100\n",
            "58/58 [==============================] - 191s 3s/step - loss: 0.1053 - accuracy: 0.9693 - val_loss: 3.6370 - val_accuracy: 0.6346\n",
            "Epoch 74/100\n",
            "58/58 [==============================] - 191s 3s/step - loss: 0.0451 - accuracy: 0.9825 - val_loss: 3.7461 - val_accuracy: 0.6171\n",
            "Epoch 75/100\n",
            "58/58 [==============================] - 202s 3s/step - loss: 0.0684 - accuracy: 0.9803 - val_loss: 3.6846 - val_accuracy: 0.6039\n",
            "Epoch 76/100\n",
            "58/58 [==============================] - 197s 3s/step - loss: 0.0701 - accuracy: 0.9775 - val_loss: 3.6134 - val_accuracy: 0.6018\n",
            "Epoch 77/100\n",
            "58/58 [==============================] - 196s 3s/step - loss: 0.0577 - accuracy: 0.9830 - val_loss: 3.5053 - val_accuracy: 0.6193\n",
            "Epoch 78/100\n",
            "58/58 [==============================] - 206s 4s/step - loss: 0.0376 - accuracy: 0.9852 - val_loss: 3.6931 - val_accuracy: 0.6018\n",
            "Epoch 79/100\n",
            "58/58 [==============================] - 196s 3s/step - loss: 0.0379 - accuracy: 0.9874 - val_loss: 3.5287 - val_accuracy: 0.6193\n",
            "Epoch 80/100\n",
            "58/58 [==============================] - 192s 3s/step - loss: 0.0437 - accuracy: 0.9847 - val_loss: 3.7300 - val_accuracy: 0.6127\n",
            "Epoch 81/100\n",
            "58/58 [==============================] - 201s 3s/step - loss: 0.0505 - accuracy: 0.9852 - val_loss: 3.9564 - val_accuracy: 0.5996\n",
            "Epoch 82/100\n",
            "58/58 [==============================] - 196s 3s/step - loss: 0.0439 - accuracy: 0.9836 - val_loss: 4.4438 - val_accuracy: 0.6368\n",
            "Epoch 83/100\n",
            "58/58 [==============================] - 202s 3s/step - loss: 0.0523 - accuracy: 0.9803 - val_loss: 4.4456 - val_accuracy: 0.5886\n",
            "Epoch 84/100\n",
            "58/58 [==============================] - 205s 4s/step - loss: 0.0659 - accuracy: 0.9836 - val_loss: 4.6341 - val_accuracy: 0.6149\n",
            "Epoch 85/100\n",
            "58/58 [==============================] - 196s 3s/step - loss: 0.0592 - accuracy: 0.9814 - val_loss: 4.4789 - val_accuracy: 0.6302\n",
            "Epoch 86/100\n",
            "58/58 [==============================] - 195s 3s/step - loss: 0.0662 - accuracy: 0.9797 - val_loss: 3.5804 - val_accuracy: 0.6193\n",
            "Epoch 87/100\n",
            "58/58 [==============================] - 204s 4s/step - loss: 0.0417 - accuracy: 0.9858 - val_loss: 3.7464 - val_accuracy: 0.6127\n",
            "Epoch 88/100\n",
            "58/58 [==============================] - 196s 3s/step - loss: 0.0403 - accuracy: 0.9863 - val_loss: 4.4440 - val_accuracy: 0.6324\n",
            "Epoch 89/100\n",
            "58/58 [==============================] - 201s 3s/step - loss: 0.0286 - accuracy: 0.9880 - val_loss: 4.2040 - val_accuracy: 0.6302\n",
            "Epoch 90/100\n",
            "58/58 [==============================] - 193s 3s/step - loss: 0.0317 - accuracy: 0.9901 - val_loss: 5.0394 - val_accuracy: 0.6083\n",
            "Epoch 91/100\n",
            "58/58 [==============================] - 196s 3s/step - loss: 0.0813 - accuracy: 0.9765 - val_loss: 4.7525 - val_accuracy: 0.5952\n",
            "Epoch 92/100\n",
            "58/58 [==============================] - 241s 4s/step - loss: 0.0654 - accuracy: 0.9792 - val_loss: 4.2369 - val_accuracy: 0.6258\n",
            "Epoch 93/100\n",
            "58/58 [==============================] - 196s 3s/step - loss: 0.0340 - accuracy: 0.9874 - val_loss: 4.2224 - val_accuracy: 0.6083\n",
            "Epoch 94/100\n",
            "58/58 [==============================] - 195s 3s/step - loss: 0.0315 - accuracy: 0.9885 - val_loss: 4.4406 - val_accuracy: 0.6061\n",
            "Epoch 95/100\n",
            "58/58 [==============================] - 199s 3s/step - loss: 0.0768 - accuracy: 0.9765 - val_loss: 5.6345 - val_accuracy: 0.6083\n",
            "Epoch 96/100\n",
            "58/58 [==============================] - 195s 3s/step - loss: 0.0729 - accuracy: 0.9781 - val_loss: 4.2850 - val_accuracy: 0.6039\n",
            "Epoch 97/100\n",
            "58/58 [==============================] - 197s 3s/step - loss: 0.0732 - accuracy: 0.9836 - val_loss: 4.4913 - val_accuracy: 0.6280\n",
            "Epoch 98/100\n",
            "58/58 [==============================] - 241s 4s/step - loss: 0.0485 - accuracy: 0.9819 - val_loss: 4.2119 - val_accuracy: 0.6324\n",
            "Epoch 99/100\n",
            "58/58 [==============================] - 193s 3s/step - loss: 0.0447 - accuracy: 0.9858 - val_loss: 3.8304 - val_accuracy: 0.5952\n",
            "Epoch 100/100\n",
            "58/58 [==============================] - 197s 3s/step - loss: 0.0289 - accuracy: 0.9852 - val_loss: 4.4603 - val_accuracy: 0.6521\n"
          ]
        }
      ],
      "source": [
        "pretrained_model_2 = ResNet50(\n",
        "    input_shape=(100,100,3),\n",
        "    include_top=False,\n",
        "    weights='imagenet',\n",
        ")\n",
        "\n",
        "pretrained_model_2.trainable = False\n",
        "\n",
        "inputs = pretrained_model_2.input\n",
        "x = pretrained_model_2.output\n",
        "x = Conv2D(128, (3, 3), activation='relu')(x)\n",
        "# x = MaxPooling2D(pool_size=(2,2))(x)\n",
        "# x = Conv2D(32, (1, 1), activation='relu')(x)\n",
        "x = Flatten()(x)\n",
        "x = Dense(512, activation='relu')(x)\n",
        "x = Dropout(0.5)(x)\n",
        "\n",
        "outputs = Dense(6, activation='softmax')(x)\n",
        "model_2 = Model(inputs=inputs, outputs=outputs)\n",
        "\n",
        "model_2.compile(\n",
        "    optimizer='adam',\n",
        "    loss='categorical_crossentropy',\n",
        "    metrics=['accuracy']\n",
        ")\n",
        "\n",
        "my_callbacks = [EarlyStopping(monitor = 'val_accuracy',\n",
        "                              min_delta=0,\n",
        "                              patience=2,\n",
        "                              mode='auto')]\n",
        "\n",
        "history = model_2.fit(\n",
        "    train_gen,\n",
        "    validation_data = valid_gen,\n",
        "    epochs=100,\n",
        ")"
      ]
    },
    {
      "cell_type": "code",
      "execution_count": null,
      "metadata": {
        "colab": {
          "base_uri": "https://localhost:8080/"
        },
        "id": "2Jb55737-Im2",
        "outputId": "469c8dc6-237c-49a7-c371-adaf09be7db5"
      },
      "outputs": [
        {
          "name": "stderr",
          "output_type": "stream",
          "text": [
            "/usr/local/lib/python3.10/dist-packages/keras/src/engine/training.py:3103: UserWarning: You are saving your model as an HDF5 file via `model.save()`. This file format is considered legacy. We recommend using instead the native Keras format, e.g. `model.save('my_model.keras')`.\n",
            "  saving_api.save_model(\n"
          ]
        }
      ],
      "source": [
        "model_2.save(\"model_2_resnet50.h5\")"
      ]
    },
    {
      "cell_type": "code",
      "execution_count": null,
      "metadata": {
        "colab": {
          "base_uri": "https://localhost:8080/"
        },
        "id": "inDAZLDf-arP",
        "outputId": "475ba8c9-613b-4238-a399-7361aa42a255"
      },
      "outputs": [
        {
          "name": "stdout",
          "output_type": "stream",
          "text": [
            "    Test Loss: 4.46033\n",
            "Test Accuracy: 65.21%\n"
          ]
        }
      ],
      "source": [
        "results = model_2.evaluate(test_gen, verbose=0)\n",
        "\n",
        "print(\"    Test Loss: {:.5f}\".format(results[0]))\n",
        "#print(\"Test Accuracy: {:.2f}%\".format(results[1] * 100))"
      ]
    },
    {
      "cell_type": "code",
      "execution_count": null,
      "metadata": {
        "colab": {
          "base_uri": "https://localhost:8080/"
        },
        "id": "joJnhbX-3B0R",
        "outputId": "87a429f5-dec9-4b81-b6de-d00a48dc9e9d"
      },
      "outputs": [
        {
          "output_type": "stream",
          "name": "stdout",
          "text": [
            "Epoch 1/100\n",
            "58/58 [==============================] - 180s 3s/step - loss: 1.4168 - accuracy: 0.4748 - val_loss: 1.2407 - val_accuracy: 0.5646\n",
            "Epoch 2/100\n",
            "58/58 [==============================] - 185s 3s/step - loss: 1.1399 - accuracy: 0.5997 - val_loss: 1.1094 - val_accuracy: 0.6061\n",
            "Epoch 3/100\n",
            "58/58 [==============================] - 176s 3s/step - loss: 0.9562 - accuracy: 0.6462 - val_loss: 1.0404 - val_accuracy: 0.6389\n",
            "Epoch 4/100\n",
            "58/58 [==============================] - 171s 3s/step - loss: 0.8599 - accuracy: 0.6950 - val_loss: 1.0587 - val_accuracy: 0.6368\n",
            "Epoch 5/100\n",
            "58/58 [==============================] - 177s 3s/step - loss: 0.7333 - accuracy: 0.7393 - val_loss: 1.2037 - val_accuracy: 0.6433\n",
            "Epoch 6/100\n",
            "58/58 [==============================] - 171s 3s/step - loss: 0.6865 - accuracy: 0.7579 - val_loss: 1.1742 - val_accuracy: 0.6674\n",
            "Epoch 7/100\n",
            "58/58 [==============================] - 171s 3s/step - loss: 0.5089 - accuracy: 0.8100 - val_loss: 1.7876 - val_accuracy: 0.6586\n",
            "Epoch 8/100\n",
            "58/58 [==============================] - 181s 3s/step - loss: 0.4874 - accuracy: 0.8269 - val_loss: 1.4302 - val_accuracy: 0.6324\n",
            "Epoch 9/100\n",
            "58/58 [==============================] - 180s 3s/step - loss: 0.4074 - accuracy: 0.8532 - val_loss: 1.4228 - val_accuracy: 0.6455\n",
            "Epoch 10/100\n",
            "58/58 [==============================] - 181s 3s/step - loss: 0.4122 - accuracy: 0.8494 - val_loss: 1.6725 - val_accuracy: 0.6193\n",
            "Epoch 11/100\n",
            "58/58 [==============================] - 178s 3s/step - loss: 0.2890 - accuracy: 0.9053 - val_loss: 1.7837 - val_accuracy: 0.6193\n",
            "Epoch 12/100\n",
            "58/58 [==============================] - 180s 3s/step - loss: 0.1789 - accuracy: 0.9354 - val_loss: 2.1540 - val_accuracy: 0.5908\n",
            "Epoch 13/100\n",
            "58/58 [==============================] - 180s 3s/step - loss: 0.1829 - accuracy: 0.9381 - val_loss: 2.0883 - val_accuracy: 0.6302\n",
            "Epoch 14/100\n",
            "58/58 [==============================] - 188s 3s/step - loss: 0.1972 - accuracy: 0.9463 - val_loss: 2.2669 - val_accuracy: 0.6171\n",
            "Epoch 15/100\n",
            "58/58 [==============================] - 189s 3s/step - loss: 0.1481 - accuracy: 0.9518 - val_loss: 1.9502 - val_accuracy: 0.5777\n",
            "Epoch 16/100\n",
            "58/58 [==============================] - 188s 3s/step - loss: 0.1355 - accuracy: 0.9589 - val_loss: 2.3428 - val_accuracy: 0.5996\n",
            "Epoch 17/100\n",
            "58/58 [==============================] - 190s 3s/step - loss: 0.1550 - accuracy: 0.9573 - val_loss: 2.0415 - val_accuracy: 0.6193\n",
            "Epoch 18/100\n",
            "58/58 [==============================] - 194s 3s/step - loss: 0.0975 - accuracy: 0.9743 - val_loss: 2.7183 - val_accuracy: 0.6127\n",
            "Epoch 19/100\n",
            "58/58 [==============================] - 178s 3s/step - loss: 0.0725 - accuracy: 0.9797 - val_loss: 2.5954 - val_accuracy: 0.6499\n",
            "Epoch 20/100\n",
            "58/58 [==============================] - 187s 3s/step - loss: 0.0670 - accuracy: 0.9830 - val_loss: 2.8716 - val_accuracy: 0.6324\n",
            "Epoch 21/100\n",
            "58/58 [==============================] - 195s 3s/step - loss: 0.0586 - accuracy: 0.9825 - val_loss: 2.4761 - val_accuracy: 0.6302\n",
            "Epoch 22/100\n",
            "58/58 [==============================] - 185s 3s/step - loss: 0.0973 - accuracy: 0.9732 - val_loss: 2.2647 - val_accuracy: 0.6214\n",
            "Epoch 23/100\n",
            "58/58 [==============================] - 194s 3s/step - loss: 0.0575 - accuracy: 0.9836 - val_loss: 3.1024 - val_accuracy: 0.6105\n",
            "Epoch 24/100\n",
            "58/58 [==============================] - 195s 3s/step - loss: 0.0960 - accuracy: 0.9748 - val_loss: 2.5887 - val_accuracy: 0.6346\n",
            "Epoch 25/100\n",
            "58/58 [==============================] - 187s 3s/step - loss: 0.0455 - accuracy: 0.9869 - val_loss: 2.5310 - val_accuracy: 0.6324\n",
            "Epoch 26/100\n",
            "58/58 [==============================] - 184s 3s/step - loss: 0.0415 - accuracy: 0.9858 - val_loss: 2.4332 - val_accuracy: 0.6236\n",
            "Epoch 27/100\n",
            "58/58 [==============================] - 185s 3s/step - loss: 0.0577 - accuracy: 0.9836 - val_loss: 2.9310 - val_accuracy: 0.6193\n",
            "Epoch 28/100\n",
            "58/58 [==============================] - 178s 3s/step - loss: 0.0724 - accuracy: 0.9754 - val_loss: 2.6873 - val_accuracy: 0.6236\n",
            "Epoch 29/100\n",
            "58/58 [==============================] - 184s 3s/step - loss: 0.0620 - accuracy: 0.9786 - val_loss: 2.5869 - val_accuracy: 0.6039\n",
            "Epoch 30/100\n",
            "58/58 [==============================] - 189s 3s/step - loss: 0.1192 - accuracy: 0.9721 - val_loss: 2.4313 - val_accuracy: 0.6368\n",
            "Epoch 31/100\n",
            "58/58 [==============================] - 177s 3s/step - loss: 0.0941 - accuracy: 0.9732 - val_loss: 2.8334 - val_accuracy: 0.6455\n",
            "Epoch 32/100\n",
            "58/58 [==============================] - 172s 3s/step - loss: 0.0240 - accuracy: 0.9929 - val_loss: 2.6637 - val_accuracy: 0.6214\n",
            "Epoch 33/100\n",
            "58/58 [==============================] - 169s 3s/step - loss: 0.0428 - accuracy: 0.9912 - val_loss: 2.7686 - val_accuracy: 0.6149\n",
            "Epoch 34/100\n",
            "58/58 [==============================] - 178s 3s/step - loss: 0.0579 - accuracy: 0.9825 - val_loss: 2.6462 - val_accuracy: 0.6127\n",
            "Epoch 35/100\n",
            "58/58 [==============================] - 177s 3s/step - loss: 0.0294 - accuracy: 0.9923 - val_loss: 2.7706 - val_accuracy: 0.6127\n",
            "Epoch 36/100\n",
            "58/58 [==============================] - 169s 3s/step - loss: 0.0457 - accuracy: 0.9841 - val_loss: 3.5804 - val_accuracy: 0.5996\n",
            "Epoch 37/100\n",
            "58/58 [==============================] - 186s 3s/step - loss: 0.1306 - accuracy: 0.9677 - val_loss: 2.5827 - val_accuracy: 0.5886\n",
            "Epoch 38/100\n",
            "58/58 [==============================] - 167s 3s/step - loss: 0.1540 - accuracy: 0.9540 - val_loss: 2.0476 - val_accuracy: 0.6018\n",
            "Epoch 39/100\n",
            "58/58 [==============================] - 173s 3s/step - loss: 0.1220 - accuracy: 0.9655 - val_loss: 2.3253 - val_accuracy: 0.5799\n",
            "Epoch 40/100\n",
            "58/58 [==============================] - 186s 3s/step - loss: 0.0632 - accuracy: 0.9819 - val_loss: 3.5479 - val_accuracy: 0.6127\n",
            "Epoch 41/100\n",
            "58/58 [==============================] - 167s 3s/step - loss: 0.0336 - accuracy: 0.9907 - val_loss: 2.6513 - val_accuracy: 0.6214\n",
            "Epoch 42/100\n",
            "58/58 [==============================] - 175s 3s/step - loss: 0.0238 - accuracy: 0.9901 - val_loss: 2.9514 - val_accuracy: 0.6302\n",
            "Epoch 43/100\n",
            "58/58 [==============================] - 177s 3s/step - loss: 0.0123 - accuracy: 0.9962 - val_loss: 3.2940 - val_accuracy: 0.6324\n",
            "Epoch 44/100\n",
            "58/58 [==============================] - 175s 3s/step - loss: 0.0100 - accuracy: 0.9945 - val_loss: 3.3157 - val_accuracy: 0.6193\n",
            "Epoch 45/100\n",
            "58/58 [==============================] - 176s 3s/step - loss: 0.0062 - accuracy: 0.9962 - val_loss: 3.3839 - val_accuracy: 0.6214\n",
            "Epoch 46/100\n",
            "58/58 [==============================] - 183s 3s/step - loss: 0.0055 - accuracy: 0.9967 - val_loss: 3.6246 - val_accuracy: 0.6214\n",
            "Epoch 47/100\n",
            "58/58 [==============================] - 168s 3s/step - loss: 0.0074 - accuracy: 0.9951 - val_loss: 3.6108 - val_accuracy: 0.6193\n",
            "Epoch 48/100\n",
            "58/58 [==============================] - 173s 3s/step - loss: 0.0076 - accuracy: 0.9962 - val_loss: 3.7070 - val_accuracy: 0.6193\n",
            "Epoch 49/100\n",
            "58/58 [==============================] - 175s 3s/step - loss: 0.0072 - accuracy: 0.9951 - val_loss: 3.7807 - val_accuracy: 0.6258\n",
            "Epoch 50/100\n",
            "58/58 [==============================] - 177s 3s/step - loss: 0.0085 - accuracy: 0.9934 - val_loss: 3.5852 - val_accuracy: 0.6214\n",
            "Epoch 51/100\n",
            "58/58 [==============================] - 176s 3s/step - loss: 0.0079 - accuracy: 0.9945 - val_loss: 3.5200 - val_accuracy: 0.6193\n",
            "Epoch 52/100\n",
            "58/58 [==============================] - 167s 3s/step - loss: 0.0069 - accuracy: 0.9945 - val_loss: 3.6730 - val_accuracy: 0.6258\n",
            "Epoch 53/100\n",
            "58/58 [==============================] - 176s 3s/step - loss: 0.0061 - accuracy: 0.9962 - val_loss: 3.7784 - val_accuracy: 0.6236\n",
            "Epoch 54/100\n",
            "58/58 [==============================] - 167s 3s/step - loss: 0.0076 - accuracy: 0.9951 - val_loss: 3.6494 - val_accuracy: 0.6193\n",
            "Epoch 55/100\n",
            "58/58 [==============================] - 178s 3s/step - loss: 0.0079 - accuracy: 0.9945 - val_loss: 3.7075 - val_accuracy: 0.6214\n",
            "Epoch 56/100\n",
            "58/58 [==============================] - 180s 3s/step - loss: 0.0060 - accuracy: 0.9956 - val_loss: 3.8256 - val_accuracy: 0.6258\n",
            "Epoch 57/100\n",
            "58/58 [==============================] - 171s 3s/step - loss: 0.0075 - accuracy: 0.9956 - val_loss: 3.7807 - val_accuracy: 0.6280\n",
            "Epoch 58/100\n",
            "58/58 [==============================] - 178s 3s/step - loss: 0.0059 - accuracy: 0.9951 - val_loss: 3.9079 - val_accuracy: 0.6302\n",
            "Epoch 59/100\n",
            "58/58 [==============================] - 184s 3s/step - loss: 0.0074 - accuracy: 0.9945 - val_loss: 4.2535 - val_accuracy: 0.6324\n",
            "Epoch 60/100\n",
            "58/58 [==============================] - 179s 3s/step - loss: 0.0072 - accuracy: 0.9956 - val_loss: 4.1417 - val_accuracy: 0.6258\n",
            "Epoch 61/100\n",
            "58/58 [==============================] - 180s 3s/step - loss: 0.0058 - accuracy: 0.9956 - val_loss: 4.1262 - val_accuracy: 0.6324\n",
            "Epoch 62/100\n",
            "11/58 [====>.........................] - ETA: 1:41 - loss: 0.0069 - accuracy: 0.9938"
          ]
        }
      ],
      "source": [
        "pretrained_model_3 = ResNet50(\n",
        "    input_shape=(100,100,3),\n",
        "    include_top=False,\n",
        "    weights='imagenet',\n",
        ")\n",
        "\n",
        "pretrained_model_3.trainable = False\n",
        "\n",
        "inputs = pretrained_model_3.input\n",
        "x = pretrained_model_3.output\n",
        "x = Conv2D(32, (3, 3), activation='relu', padding='same')(x)\n",
        "#x = MaxPooling2D(pool_size=(2,2))(x)\n",
        "\n",
        "x = Conv2D(64, (3, 3), activation='relu', padding='same')(x)\n",
        "#x = MaxPooling2D(pool_size=(2,2))(x)\n",
        "\n",
        "x = Conv2D(128, (3, 3), activation='relu', padding='same')(x)\n",
        "\n",
        "x = Flatten()(x)\n",
        "\n",
        "x = Dense(128, activation='relu')(x)\n",
        "x = Dropout(0.3)(x)\n",
        "\n",
        "x = Dense(256, activation='relu')(x)\n",
        "x = Dropout(0.5)(x)\n",
        "\n",
        "outputs = Dense(6, activation='softmax')(x)\n",
        "model_3 = Model(inputs=inputs, outputs=outputs)\n",
        "\n",
        "model_3.compile(\n",
        "    optimizer='adam',\n",
        "    loss='categorical_crossentropy',\n",
        "    metrics=['accuracy']\n",
        ")\n",
        "\n",
        "my_callbacks = [EarlyStopping(monitor = 'val_accuracy',\n",
        "                              min_delta=0,\n",
        "                              patience=2,\n",
        "                              mode='auto')]\n",
        "\n",
        "history = model_3.fit(\n",
        "    train_gen,\n",
        "    validation_data = valid_gen,\n",
        "    epochs=100,\n",
        ")"
      ]
    },
    {
      "cell_type": "code",
      "source": [
        "model_5.save(\"model_5_resnet50.h5\")"
      ],
      "metadata": {
        "id": "Q0fIS1J70uD_"
      },
      "execution_count": null,
      "outputs": []
    }
  ],
  "metadata": {
    "colab": {
      "provenance": []
    },
    "kernelspec": {
      "display_name": "Python 3",
      "name": "python3"
    },
    "language_info": {
      "name": "python"
    }
  },
  "nbformat": 4,
  "nbformat_minor": 0
}